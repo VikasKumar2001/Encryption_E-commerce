{
 "cells": [
  {
   "cell_type": "code",
   "execution_count": 56,
   "id": "7a1ec327",
   "metadata": {},
   "outputs": [],
   "source": [
    "import random\n",
    "import numpy as np\n",
    "import re \n",
    "import copy\n",
    "from collections import Counter\n",
    "import matplotlib.pyplot as plt\n",
    "import seaborn as sns\n",
    "%matplotlib inline"
   ]
  },
  {
   "cell_type": "code",
   "execution_count": 57,
   "id": "2d50e99e",
   "metadata": {},
   "outputs": [],
   "source": [
    "def encrypt(plaintext, plaintext_alphabet ,cipher_alphabet, blacklist={}):\n",
    "    assert set(list(plaintext)).difference(blacklist).issubset(set(list(plaintext_alphabet))), \"Plaintext must only contain characters in Plaintext alphabet\"\n",
    "    assert len(plaintext_alphabet) == len(cipher_alphabet), \"Cipher alphabet must have same number of characters as Plaintext alphabet\"\n",
    "\n",
    "    enc_key = dict(zip(list(plaintext_alphabet),list(cipher_alphabet)))\n",
    "    acc = []\n",
    "    for s in plaintext:\n",
    "        if s in blacklist:\n",
    "            acc += s\n",
    "        else:\n",
    "            acc += [enc_key[s]]\n",
    "    ciphertext = \"\".join(acc)\n",
    "\n",
    "    return {'cipher_alphabet' : cipher_alphabet,\n",
    "            'plaintext_alphabet' : plaintext_alphabet,\n",
    "            'ciphertext' : ciphertext,\n",
    "           }\n",
    "\n",
    "def decrypt(ciphertext, plaintext_alphabet, cipher_alphabet, blacklist={}):\n",
    "    dec_key = dict(zip(list(cipher_alphabet),list(plaintext_alphabet)))\n",
    "    acc = []\n",
    "    for s in ciphertext:\n",
    "        \n",
    "        if s in blacklist:\n",
    "            acc += [s]\n",
    "        else:\n",
    "            acc += [dec_key[s]]\n",
    "    plaintext = \"\".join(acc)\n",
    "    return {'cipher_alphabet' : cipher_alphabet,\n",
    "            'plaintext_alphabet' : plaintext_alphabet,\n",
    "            'plaintext' : plaintext,\n",
    "           }"
   ]
  },
  {
   "cell_type": "code",
   "execution_count": 58,
   "id": "a9f90887",
   "metadata": {},
   "outputs": [],
   "source": [
    "def process_text(filename, regex_ignore='[^A-Z .]', regularize=True):\n",
    "    char_bigram_counts = Counter()\n",
    "    char_unigram_counts = Counter()\n",
    "\n",
    "    with open(filename,encoding='utf-8') as f:\n",
    "        cnt = 0\n",
    "        for line in f:\n",
    "            cnt += 1\n",
    "            if cnt % 5000 == 0: print(\"{0} lines read.\".format(cnt))\n",
    "            if regex_ignore != None:\n",
    "                pattern = re.compile(regex_ignore)\n",
    "                s = pattern.sub('',line.upper())\n",
    "            else:\n",
    "                s = line.upper()\n",
    "\n",
    "            line_length = len(s)\n",
    "\n",
    "            if line_length > 0:\n",
    "                for i in range(line_length-1):\n",
    "                    char_bigram_counts[(s[i],s[i+1])] +=1\n",
    "                    char_unigram_counts[s[i]] += 1\n",
    "\n",
    "                char_unigram_counts[s[line_length-1]] += 1 \n",
    "                \n",
    "\n",
    "    i_c_map = dict(enumerate([q[0] for q in sorted(list(char_unigram_counts.items()),key=lambda x: x[0])]))\n",
    "    c_i_map = {v: k for k, v in i_c_map.items()}\n",
    "\n",
    "    n = len(c_i_map)\n",
    "    M = np.zeros((n,n))\n",
    "    if regularize:\n",
    "        M += 1\n",
    "        \n",
    "    for k in char_bigram_counts.keys():\n",
    "        M[c_i_map[k[0]]][c_i_map[k[1]]] = char_bigram_counts[k]\n",
    "\n",
    "    zero_rows = np.where(M.sum(axis=1) == 0.)\n",
    "    M[zero_rows,:] = 1\n",
    "    row_sums = M.sum(axis=1)\n",
    "    P = M / row_sums[:,np.newaxis]\n",
    "\n",
    "    print('{0} uniform row(s) inputed for characters {1}'.format(zero_rows[0].size, \n",
    "                                                                [i_c_map[z] for z in zero_rows[0]]))\n",
    "\n",
    "    return {'char_bigram_counts': char_bigram_counts,\n",
    "            'char_unigram_counts': char_unigram_counts,\n",
    "            'bigram_freq_matrix': M,\n",
    "            'transition_matrix': P,\n",
    "            'character_index_map': c_i_map,\n",
    "            'index_character_map': i_c_map,\n",
    "           }"
   ]
  },
  {
   "cell_type": "code",
   "execution_count": 59,
   "id": "0146339e",
   "metadata": {},
   "outputs": [],
   "source": [
    "def plausibility(f, char_index_map, cipher, transition_mtx, blacklist={}, print_output=False):\n",
    "    n = len(cipher)\n",
    "    probs = np.zeros(n-1)\n",
    "    q = len(transition_mtx)\n",
    "    k = []\n",
    "    v = []\n",
    "    \n",
    "    for i,j in f.items():\n",
    "        k += [i]\n",
    "        v += [j]\n",
    "        \n",
    "    dec = decrypt(cipher,\"\".join(v),\"\".join(k),blacklist)['plaintext']\n",
    "    for i in range(n-1):\n",
    "        if dec[i] in blacklist or dec[i+1] in blacklist:    \n",
    "            probs[i] = 1/q\n",
    "        else:\n",
    "            probs[i] = transition_mtx[c_i_map[dec[i]]][c_i_map[dec[i+1]]]\n",
    "            \n",
    "        # Ensures numerical stability\n",
    "        probs_sorted = np.sort(probs,kind='quicksort')\n",
    "\n",
    "    return {\"score\":np.sum(np.log(np.array(probs))),\"attempt\":dec} \n",
    "def similarity(s1, s2):\n",
    "    assert len(s1) == len(s2), \"Both strings must be same length\"\n",
    "    n = len(s1)\n",
    "    num_matches = sum([1 if a == b else 0 for a,b in zip(s1,s2)])\n",
    "    return num_matches/n    "
   ]
  },
  {
   "cell_type": "code",
   "execution_count": 60,
   "id": "f1b03b20",
   "metadata": {},
   "outputs": [],
   "source": [
    "def solve_mcmc(ciphertext, usual_alphabet,code_space, trans_mtx, char_index_mapping, iters=2500, skip_chars={}):\n",
    "    f = dict(zip(list(code_space),list(usual_alphabet)))\n",
    "    \n",
    "    scores = [0.0]*iters\n",
    "    mappings = []\n",
    "    accepted = 0\n",
    "    for i in range(0,iters):\n",
    "\n",
    "        mappings += [f]\n",
    "\n",
    "        # Create proposal from f by random transposition of 2 letters\n",
    "        r1, r2 = np.random.choice(list(code_space),2,replace=True)\n",
    "        f_proposal = f.copy()\n",
    "        f_proposal[r1] = f[r2]\n",
    "        f_proposal[r2] = f[r1]\n",
    "\n",
    "        current = plausibility(f,char_index_mapping,ciphertext,trans_mtx,blacklist=skip_chars)\n",
    "        f_prob = current['score']\n",
    "        \n",
    " \n",
    "        if i % 500 == 0: \n",
    "            print(\"iter:\", i,current['attempt'][:100])\n",
    "\n",
    "        f_proposal_prob = plausibility(f_proposal,char_index_mapping,ciphertext,trans_mtx,blacklist=skip_chars)['score']\n",
    "\n",
    "        # Decide to accept new proposal\n",
    "        u = random.uniform(0,1)\n",
    "        if f_proposal_prob > f_prob:\n",
    "            f = f_proposal.copy()\n",
    "            scores[i] = f_proposal_prob\n",
    "            accepted += 1\n",
    "        elif u < np.exp(f_proposal_prob - f_prob):\n",
    "            f = f_proposal.copy()\n",
    "            scores[i] = f_proposal_prob\n",
    "            accepted += 1\n",
    "        scores[i] = f_prob\n",
    "\n",
    "    print(\"total acceptances: \", accepted)\n",
    "\n",
    "    best_f = mappings[np.argmax(scores)]\n",
    "    best_score = max(scores)\n",
    "    plains = []\n",
    "    ciphers = []\n",
    "\n",
    "    for k in sorted(best_f.keys()):\n",
    "        ciphers += [k]\n",
    "        plains += [best_f[k]]\n",
    "    \n",
    "    best_key = (\"\".join(plains),\"\".join(ciphers))\n",
    "    best_attempt = decrypt(ciphertext,best_key[0],best_key[1],blacklist=skip_chars)['plaintext']\n",
    "    \n",
    "    print(\"score:\",best_score)\n",
    "    return {'num_iters':iters,\n",
    "            'plaintext':best_attempt,\n",
    "            'best_score':best_score,\n",
    "            'best_key':best_f,\n",
    "            'scores':scores,\n",
    "            'total_acceptances': accepted\n",
    "            }"
   ]
  },
  {
   "cell_type": "code",
   "execution_count": 61,
   "id": "04f083ba",
   "metadata": {},
   "outputs": [
    {
     "name": "stdout",
     "output_type": "stream",
     "text": [
      "{'cipher_alphabet': 'NDFEUR BAYJPLWQKCMZIXSHVTGO', 'plaintext_alphabet': 'ABCDEFGHIJKLMNOPQRSTUVWXYZ ', 'ciphertext': 'UWIUMOBNLPUIOIQODUOQMOWQIOIQODUOIBNIOAZOIBUOCXUZIAQWOHBUIBUMOIAZOWQDPUMOAWOIBUOLAWEOIQOZXRRUMOIBUOZPAW ZONWEONMMQHZOQROQXIMN UQXZORQMIXWUOQMOIQOINJUONMLZON NAWZIONOZUNOQROIMQXDPUZONWEODTOQKKQZAW OUWE'}\n",
      "{'cipher_alphabet': 'NDFEUR BAYJPLWQKCMZIXSHVTGO', 'plaintext_alphabet': 'ABCDEFGHIJKLMNOPQRSTUVWXYZ ', 'plaintext': 'ENTER HAMLET TO BE OR NOT TO BE THAT IS THE QUESTION WHETHER TIS NOBLER IN THE MIND TO SUFFER THE SLINGS AND ARROWS OF OUTRAGEOUS FORTUNE OR TO TAKE ARMS AGAINST A SEA OF TROUBLES AND BY OPPOSING END'}\n",
      "('ABCDEFGHIJKLMNOPQRSTUVWXYZ ', 'NDFEUR BAYJPLWQKCMZIXSHVTGO')\n",
      "0 uniform row(s) inputed for characters []\n"
     ]
    }
   ],
   "source": [
    "test_pattern = '[^A-Z ]'\n",
    "pattern = re.compile(test_pattern)\n",
    "message = \"ENTER HAMLET TO BE OR NOT TO BE THAT IS THE QUESTION WHETHER TIS NOBLER IN THE MIND TO SUFFER THE SLINGS AND ARROWS OF OUTRAGEOUS FORTUNE OR TO TAKE ARMS AGAINST A SEA OF TROUBLES AND BY OPPOSING END\"\n",
    "message_cleaned = pattern.sub('',message.upper())\n",
    "\n",
    "en_alphabet = \"ABCDEFGHIJKLMNOPQRSTUVWXYZ \"\n",
    "tmp = list(en_alphabet)\n",
    "random.shuffle(tmp)\n",
    "cipher_alphabet = \"\".join(tmp)\n",
    "message_enc = encrypt(message_cleaned,en_alphabet,cipher_alphabet,)\n",
    "ciphertext = message_enc['ciphertext']\n",
    "print(message_enc)\n",
    "print(decrypt(message_enc['ciphertext'],en_alphabet, cipher_alphabet,))\n",
    "print((en_alphabet,cipher_alphabet))\n",
    "results = process_text('credit_card.txt',regex_ignore=test_pattern)\n",
    "P = results['transition_matrix']\n",
    "F = results['bigram_freq_matrix']\n",
    "m = P.shape[0]\n",
    "i_c_map = results['index_character_map']\n",
    "c_i_map = results['character_index_map']\n"
   ]
  },
  {
   "cell_type": "code",
   "execution_count": 62,
   "id": "e1bde2c9",
   "metadata": {},
   "outputs": [
    {
     "data": {
      "text/plain": [
       "Text(0.5, 1.0, 'Character Transition Matrix (Ecommerce)')"
      ]
     },
     "execution_count": 62,
     "metadata": {},
     "output_type": "execute_result"
    },
    {
     "data": {
      "image/png": "[encoded data removed]",
      "text/plain": [
       "<Figure size 720x720 with 2 Axes>"
      ]
     },
     "metadata": {
      "needs_background": "light"
     },
     "output_type": "display_data"
    }
   ],
   "source": [
    "names = []\n",
    "for k in sorted(list(i_c_map.keys())):\n",
    "    names += [i_c_map[k]]\n",
    "    \n",
    "plt.figure(figsize=(10,10))\n",
    "sns.heatmap(P,xticklabels=names,yticklabels=names)\n",
    "plt.title(\"Character Transition Matrix (Ecommerce)\")"
   ]
  },
  {
   "cell_type": "code",
   "execution_count": 63,
   "id": "944d4905",
   "metadata": {},
   "outputs": [
    {
     "name": "stdout",
     "output_type": "stream",
     "text": [
      "ciphertext:\n",
      "UWIUMOBNLPUIOIQODUOQMOWQIOIQODUOIBNIOAZOIBUOCXUZIAQWOHBUIBUMOIAZOWQDPUMOAWOIBUOLAWEOIQOZXRRUMOIBUOZPAW ZONWEONMMQHZOQROQXIMN UQXZORQMIXWUOQMOIQOINJUONMLZON NAWZIONOZUNOQROIMQXDPUZONWEODTOQKKQZAW OUWE\n",
      "\n",
      "iter: 0 TZGTDLIMAQTGLGYLVTLYDLZYGLGYLVTLGIMGLNULGITLPWTUGNYZLKITGITDLGNULZYVQTDLNZLGITLANZFLGYLUWCCTDLGITLUQ\n",
      "iter: 500 C UCONITZSCUNUKNFCNKON KUNUKNFCNUITUNRANUICNPWCAURK NDICUICONURAN KFSCONR NUICNZR ENUKNAWLLCONUICNAS\n",
      "iter: 1000 C UCONITGZCUNUKNXCNKON KUNUKNXCNUITUNRANUICNQLCAURK NDICUICONURAN KXZCONR NUICNGR ENUKNALSSCONUICNAZ\n",
      "iter: 1500 S KSONITVESKNKUNBSNUON UKNKUNBSNKITKNRANKISNGMSAKRU NCISKISONKRAN UBESONR NKISNVR PNKUNAMFFSONKISNAE\n",
      "iter: 2000 S USONITHESUNUKNBSNKON KUNUKNBSNUITUNRANUISNLMSAURK NDISUISONURAN KBESONR NUISNHR CNUKNAMWWSONUISNAE\n",
      "iter: 2500 S KSONITHESKNKUNBSNUON UKNKUNBSNKITKNRANKISNVMSAKRU NDISKISONKRAN UBESONR NKISNHR PNKUNAMXXSONKISNAE\n",
      "iter: 3000 S KSONITQESKNKUNBSNUON UKNKUNBSNKITKNRANKISNYMSAKRU NDISKISONKRAN UBESONR NKISNQR PNKUNAMZZSONKISNAE\n",
      "iter: 3500 S KSONITVESKNKUNHSNUON UKNKUNHSNKITKNRANKISNYJSAKRU NMISKISONKRAN UHESONR NKISNVR PNKUNAJBBSONKISNAE\n",
      "iter: 4000 S KSONITMESKNKUNXSNUON UKNKUNXSNKITKNRANKISNZLSAKRU NDISKISONKRAN UXESONR NKISNMR CNKUNALBBSONKISNAE\n",
      "iter: 4500 S KSONITHESKNKUNBSNUON UKNKUNBSNKITKNRANKISNYJSAKRU NXISKISONKRAN UBESONR NKISNHR CNKUNAJMMSONKISNAE\n",
      "total acceptances:  1040\n",
      "score: -586.8260850370232\n",
      "\n",
      "attempted decryption:\n",
      "S KSONITHESKNKUNBSNUON UKNKUNBSNKITKNRANKISNZMSAKRU NDISKISONKRAN UBESONR NKISNHR PNKUNAMLLSONKISNAER CANT PNTOOUDANULNUMKOTCSUMANLUOKM SNUONKUNKTGSNTOHANTCTR AKNTNASTNULNKOUMBESANT PNBWNUYYUAR CNS P\n",
      "\n",
      "original message:\n",
      "ENTER HAMLET TO BE OR NOT TO BE THAT IS THE QUESTION WHETHER TIS NOBLER IN THE MIND TO SUFFER THE SLINGS AND ARROWS OF OUTRAGEOUS FORTUNE OR TO TAKE ARMS AGAINST A SEA OF TROUBLES AND BY OPPOSING END\n",
      "\n",
      "score of true key: -591.0435306815182\n",
      "similarity score: 0.02512562814070352\n"
     ]
    }
   ],
   "source": [
    "init = list(en_alphabet).copy()\n",
    "random.shuffle(init)\n",
    "print(\"ciphertext:\")\n",
    "print(ciphertext)\n",
    "\n",
    "print()\n",
    "soln = solve_mcmc(ciphertext,en_alphabet,init,P,c_i_map,iters=5000)\n",
    "print()\n",
    "\n",
    "print(\"attempted decryption:\")\n",
    "print(soln['plaintext'])\n",
    "print()\n",
    "print(\"original message:\")\n",
    "print(message_cleaned)\n",
    "ground_truth_score = plausibility(dict(zip(cipher_alphabet,en_alphabet)),c_i_map,ciphertext,P)\n",
    "\n",
    "print()\n",
    "print('score of true key:', ground_truth_score['score'])\n",
    "print('similarity score:', similarity(message_cleaned, soln['plaintext']))"
   ]
  },
  {
   "cell_type": "code",
   "execution_count": 64,
   "id": "8ad1a5c6",
   "metadata": {},
   "outputs": [
    {
     "data": {
      "image/png": "[encoded data removed]",
      "text/plain": [
       "<Figure size 432x288 with 1 Axes>"
      ]
     },
     "metadata": {
      "needs_background": "light"
     },
     "output_type": "display_data"
    }
   ],
   "source": [
    "plt.plot(soln['scores'])\n",
    "plt.title('score function')\n",
    "plt.show()  "
   ]
  },
  {
   "cell_type": "code",
   "execution_count": null,
   "id": "7a081520",
   "metadata": {},
   "outputs": [],
   "source": []
  }
 ],
 "metadata": {
  "kernelspec": {
   "display_name": "Python 3 (ipykernel)",
   "language": "python",
   "name": "python3"
  },
  "language_info": {
   "codemirror_mode": {
    "name": "ipython",
    "version": 3
   },
   "file_extension": ".py",
   "mimetype": "text/x-python",
   "name": "python",
   "nbconvert_exporter": "python",
   "pygments_lexer": "ipython3",
   "version": "3.9.12"
  }
 },
 "nbformat": 4,
 "nbformat_minor": 5
}
